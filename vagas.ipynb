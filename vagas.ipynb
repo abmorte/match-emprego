{
 "cells": [
  {
   "cell_type": "markdown",
   "metadata": {},
   "source": [
    "#### Agrupamento vagas"
   ]
  },
  {
   "cell_type": "code",
   "execution_count": 8,
   "metadata": {},
   "outputs": [],
   "source": [
    "# Carregando as bibliotecas\n",
    "import pandas as pd\n",
    "from sklearn.preprocessing import StandardScaler\n",
    "import matplotlib.pyplot as plt\n",
    "import skfuzzy as fuzz"
   ]
  },
  {
   "cell_type": "code",
   "execution_count": 4,
   "metadata": {},
   "outputs": [
    {
     "data": {
      "text/html": [
       "<div>\n",
       "<style scoped>\n",
       "    .dataframe tbody tr th:only-of-type {\n",
       "        vertical-align: middle;\n",
       "    }\n",
       "\n",
       "    .dataframe tbody tr th {\n",
       "        vertical-align: top;\n",
       "    }\n",
       "\n",
       "    .dataframe thead th {\n",
       "        text-align: right;\n",
       "    }\n",
       "</style>\n",
       "<table border=\"1\" class=\"dataframe\">\n",
       "  <thead>\n",
       "    <tr style=\"text-align: right;\">\n",
       "      <th></th>\n",
       "      <th>cod_ocupacao</th>\n",
       "      <th>salario</th>\n",
       "      <th>tipo_contratacao</th>\n",
       "      <th>qtd_experiencia</th>\n",
       "      <th>escolaridade</th>\n",
       "    </tr>\n",
       "  </thead>\n",
       "  <tbody>\n",
       "    <tr>\n",
       "      <th>0</th>\n",
       "      <td>514120</td>\n",
       "      <td>600</td>\n",
       "      <td>3</td>\n",
       "      <td>2</td>\n",
       "      <td>1</td>\n",
       "    </tr>\n",
       "    <tr>\n",
       "      <th>1</th>\n",
       "      <td>783215</td>\n",
       "      <td>812</td>\n",
       "      <td>3</td>\n",
       "      <td>3</td>\n",
       "      <td>1</td>\n",
       "    </tr>\n",
       "    <tr>\n",
       "      <th>2</th>\n",
       "      <td>142205</td>\n",
       "      <td>0</td>\n",
       "      <td>3</td>\n",
       "      <td>6</td>\n",
       "      <td>6</td>\n",
       "    </tr>\n",
       "    <tr>\n",
       "      <th>3</th>\n",
       "      <td>513205</td>\n",
       "      <td>1200</td>\n",
       "      <td>3</td>\n",
       "      <td>6</td>\n",
       "      <td>2</td>\n",
       "    </tr>\n",
       "    <tr>\n",
       "      <th>4</th>\n",
       "      <td>763215</td>\n",
       "      <td>1656</td>\n",
       "      <td>3</td>\n",
       "      <td>6</td>\n",
       "      <td>0</td>\n",
       "    </tr>\n",
       "  </tbody>\n",
       "</table>\n",
       "</div>"
      ],
      "text/plain": [
       "   cod_ocupacao  salario  tipo_contratacao  qtd_experiencia  escolaridade\n",
       "0        514120      600                 3                2             1\n",
       "1        783215      812                 3                3             1\n",
       "2        142205        0                 3                6             6\n",
       "3        513205     1200                 3                6             2\n",
       "4        763215     1656                 3                6             0"
      ]
     },
     "execution_count": 4,
     "metadata": {},
     "output_type": "execute_result"
    }
   ],
   "source": [
    "# Carrega os datasets\n",
    "# df_vagas = pd.read_csv('data/vagas-ba.csv', encoding='ISO-8859-1', sep=';')\n",
    "df_vagas = pd.read_excel('data/vagas-pr.xlsx', index_col=0)\n",
    "pd.set_option('max_colwidth', None)\n",
    "df_vagas.head()"
   ]
  },
  {
   "cell_type": "code",
   "execution_count": 5,
   "metadata": {},
   "outputs": [
    {
     "data": {
      "text/plain": [
       "cod_ocupacao        0\n",
       "salario             0\n",
       "tipo_contratacao    0\n",
       "qtd_experiencia     0\n",
       "escolaridade        0\n",
       "dtype: int64"
      ]
     },
     "execution_count": 5,
     "metadata": {},
     "output_type": "execute_result"
    }
   ],
   "source": [
    "# verifica se existe variáveis nulas por campo\n",
    "df_vagas.isna().sum()"
   ]
  },
  {
   "cell_type": "code",
   "execution_count": 6,
   "metadata": {},
   "outputs": [
    {
     "data": {
      "text/plain": [
       "(4045, 5)"
      ]
     },
     "execution_count": 6,
     "metadata": {},
     "output_type": "execute_result"
    }
   ],
   "source": [
    "df_vagas.shape"
   ]
  },
  {
   "cell_type": "code",
   "execution_count": 10,
   "metadata": {},
   "outputs": [],
   "source": [
    "# Considerando que o CBO está organizado em grupo e subgrupo de funções por área, então podemos propor um agrupamento por subgrupo até o nível 5\n",
    "# Estrutura CBO2002 (Ex. 3143 - Técnicos em mecânica veicular):\n",
    "#   - Grande grupo (1º número): \n",
    "#       - 3: Técnico de nível médio\n",
    "#   - Subgrupo principal (2 primeiros números): \n",
    "#       - 31: Técnicos de nível médio das ciências físicas, químicas, engenharia e afins\n",
    "#   - Subgrupo (3 primeiros números): 314\n",
    "#       - 314: Técnicos em metalmecânica \n",
    "#   - Família (4 números)\n",
    "#       - 3143: Técnicos em mecânica veicular\n",
    "#   - Ocupação: (6 números)\n",
    "#       - 314305: Técnico em automobilística\n",
    "#       - 314310: Técnico mecânico (aeronaves) \n",
    "#       - 314315: Técnico mecânico (embarcações)    \n",
    "# Fontes: http://www.mtecbo.gov.br/cbosite/pages/home.jsf, https://renastonline.ensp.fiocruz.br/temas/classificacao-brasileira-ocupacoes-cbo"
   ]
  },
  {
   "cell_type": "markdown",
   "metadata": {},
   "source": [
    "Normalização dos dados"
   ]
  },
  {
   "cell_type": "code",
   "execution_count": 7,
   "metadata": {},
   "outputs": [
    {
     "data": {
      "text/plain": [
       "array([[-0.43402256, -0.0275329 ,  0.13583077, -0.49586031, -0.50946169],\n",
       "       [ 0.99170225, -0.02744163,  0.13583077, -0.13794544, -0.50946169],\n",
       "       [-2.40451046, -0.02779122,  0.13583077,  0.93579919,  2.21498642],\n",
       "       ...,\n",
       "       [ 0.99694749, -0.02705932,  0.13583077, -1.21169006,  1.12520718],\n",
       "       [-0.9214589 , -0.02720312,  0.13583077, -1.21169006, -1.05435132],\n",
       "       [-0.42233998, -0.02779122,  0.13583077, -0.13794544,  1.12520718]])"
      ]
     },
     "execution_count": 7,
     "metadata": {},
     "output_type": "execute_result"
    }
   ],
   "source": [
    "scaler = StandardScaler()\n",
    "X = scaler.fit_transform(df_vagas)\n",
    "X"
   ]
  },
  {
   "cell_type": "markdown",
   "metadata": {},
   "source": [
    "Nº ótimo de clusters (parâmetro ***c*** abaixo) obtido no notebook avaliacao-hiperparametros: 6 - seis.\n",
    "\n",
    "Demais parâmetros têm valor *default*"
   ]
  },
  {
   "cell_type": "code",
   "execution_count": null,
   "metadata": {},
   "outputs": [],
   "source": [
    "r = fuzz.cmeans(data = X.T, c=6, m=2, error=0.005, maxiter=1000, init=None)\n",
    "r"
   ]
  },
  {
   "cell_type": "markdown",
   "metadata": {},
   "source": [
    "Cada linha de r guarda a probabilidade de pertencimento a cada um dos seis clusters passado como parâmetro.\n",
    "\n",
    "Posição 1 da matriz indica as probabilidades de pertencimento ao cluster."
   ]
  },
  {
   "cell_type": "code",
   "execution_count": 20,
   "metadata": {},
   "outputs": [],
   "source": [
    "probabilidades_vagas = r[1]"
   ]
  },
  {
   "cell_type": "markdown",
   "metadata": {},
   "source": [
    "<img src=\"img\\soft-clustering.png\" style=\"width:800px;height:300px;\">\n",
    "\n",
    "A base guarda 4045 vagas de emprego. Cada vaga é agrupada em um dos seis clusters passado como parâmetro. \n",
    "Na verdade, há um percentual indicando o grau de pertencimento da vaga a cada um dos seis clusters. Vide shape."
   ]
  },
  {
   "cell_type": "code",
   "execution_count": 21,
   "metadata": {},
   "outputs": [
    {
     "data": {
      "text/plain": [
       "(6, 4045)"
      ]
     },
     "execution_count": 21,
     "metadata": {},
     "output_type": "execute_result"
    }
   ],
   "source": [
    "probabilidades_vagas.shape"
   ]
  },
  {
   "cell_type": "code",
   "execution_count": 22,
   "metadata": {},
   "outputs": [
    {
     "data": {
      "text/plain": [
       "array([[0.05447003, 0.04721009, 0.44428104, ..., 0.11217772, 0.02102728,\n",
       "        0.31180067],\n",
       "       [0.0706555 , 0.34483726, 0.08233185, ..., 0.12485208, 0.02424424,\n",
       "        0.06871722],\n",
       "       [0.09147069, 0.05388653, 0.18862878, ..., 0.28894844, 0.04350246,\n",
       "        0.37909296],\n",
       "       [0.10950239, 0.33002843, 0.06289068, ..., 0.2327941 , 0.05402213,\n",
       "        0.05866698],\n",
       "       [0.14907072, 0.11847753, 0.13234346, ..., 0.09838732, 0.04146011,\n",
       "        0.10255566],\n",
       "       [0.52483067, 0.10556015, 0.08952419, ..., 0.14284033, 0.81574377,\n",
       "        0.0791665 ]])"
      ]
     },
     "execution_count": 22,
     "metadata": {},
     "output_type": "execute_result"
    }
   ],
   "source": [
    "probabilidades_vagas"
   ]
  },
  {
   "cell_type": "code",
   "execution_count": 25,
   "metadata": {},
   "outputs": [
    {
     "data": {
      "text/plain": [
       "5.447003188348763"
      ]
     },
     "execution_count": 25,
     "metadata": {},
     "output_type": "execute_result"
    }
   ],
   "source": [
    "probabilidades_vagas[0][0] * 100"
   ]
  },
  {
   "cell_type": "code",
   "execution_count": 26,
   "metadata": {},
   "outputs": [
    {
     "data": {
      "text/plain": [
       "7.065550356035972"
      ]
     },
     "execution_count": 26,
     "metadata": {},
     "output_type": "execute_result"
    }
   ],
   "source": [
    "probabilidades_vagas[1][0] * 100"
   ]
  },
  {
   "cell_type": "code",
   "execution_count": 28,
   "metadata": {},
   "outputs": [
    {
     "data": {
      "text/plain": [
       "9.147069036379534"
      ]
     },
     "execution_count": 28,
     "metadata": {},
     "output_type": "execute_result"
    }
   ],
   "source": [
    "probabilidades_vagas[2][0] * 100"
   ]
  },
  {
   "cell_type": "code",
   "execution_count": 29,
   "metadata": {},
   "outputs": [
    {
     "data": {
      "text/plain": [
       "10.950239023842197"
      ]
     },
     "execution_count": 29,
     "metadata": {},
     "output_type": "execute_result"
    }
   ],
   "source": [
    "probabilidades_vagas[3][0] * 100"
   ]
  },
  {
   "cell_type": "code",
   "execution_count": 30,
   "metadata": {},
   "outputs": [
    {
     "data": {
      "text/plain": [
       "14.90707177221909"
      ]
     },
     "execution_count": 30,
     "metadata": {},
     "output_type": "execute_result"
    }
   ],
   "source": [
    "probabilidades_vagas[4][0] * 100"
   ]
  },
  {
   "cell_type": "code",
   "execution_count": 31,
   "metadata": {},
   "outputs": [
    {
     "data": {
      "text/plain": [
       "52.483066623174444"
      ]
     },
     "execution_count": 31,
     "metadata": {},
     "output_type": "execute_result"
    }
   ],
   "source": [
    "probabilidades_vagas[5][0] * 100"
   ]
  },
  {
   "cell_type": "markdown",
   "metadata": {},
   "source": [
    "probabilidades guarda a que cluster (identificados de 0  a 5) cada uma das vagas tem maior percentual de pertencimento"
   ]
  },
  {
   "cell_type": "code",
   "execution_count": 41,
   "metadata": {},
   "outputs": [
    {
     "data": {
      "text/plain": [
       "1"
      ]
     },
     "execution_count": 41,
     "metadata": {},
     "output_type": "execute_result"
    }
   ],
   "source": [
    "probabilidades = probabilidades_vagas.argmax(axis=0)\n",
    "probabilidades"
   ]
  },
  {
   "cell_type": "code",
   "execution_count": 38,
   "metadata": {},
   "outputs": [
    {
     "data": {
      "text/plain": [
       "<matplotlib.legend.Legend at 0x1d205713e80>"
      ]
     },
     "execution_count": 38,
     "metadata": {},
     "output_type": "execute_result"
    },
    {
     "data": {
      "image/png": "[encoded data removed]",
      "text/plain": [
       "<Figure size 640x480 with 1 Axes>"
      ]
     },
     "metadata": {},
     "output_type": "display_data"
    }
   ],
   "source": [
    "plt.scatter(X[probabilidades == 0, 0], X[probabilidades == 0, 1], s=200, c= 'red', label = 'Cluster 1')\n",
    "plt.scatter(X[probabilidades == 1, 0], X[probabilidades == 1, 1], s=200, c= 'orange', label = 'Cluster 2')\n",
    "plt.scatter(X[probabilidades == 2, 0], X[probabilidades == 2, 1], s=200, c= 'green', label = 'Cluster 3')\n",
    "plt.scatter(X[probabilidades == 3, 0], X[probabilidades == 3, 1], s=200, c= 'blue', label = 'Cluster 4')\n",
    "plt.scatter(X[probabilidades == 4, 0], X[probabilidades == 4, 1], s=200, c= 'gray', label = 'Cluster 5')\n",
    "plt.scatter(X[probabilidades == 5, 0], X[probabilidades == 5, 1], s=200, c= 'pink', label = 'Cluster 6')\n",
    "plt.legend()"
   ]
  }
 ],
 "metadata": {
  "kernelspec": {
   "display_name": "Python 3.9.6 ('venv': venv)",
   "language": "python",
   "name": "python3"
  },
  "language_info": {
   "codemirror_mode": {
    "name": "ipython",
    "version": 3
   },
   "file_extension": ".py",
   "mimetype": "text/x-python",
   "name": "python",
   "nbconvert_exporter": "python",
   "pygments_lexer": "ipython3",
   "version": "3.9.6"
  },
  "orig_nbformat": 4,
  "vscode": {
   "interpreter": {
    "hash": "008ce0aee2f1dcd3fc0687de84d0a31741e2cfedff6a001afb71b61ed2a96102"
   }
  }
 },
 "nbformat": 4,
 "nbformat_minor": 2
}
