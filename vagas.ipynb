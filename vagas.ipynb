{
 "cells": [
  {
   "cell_type": "markdown",
   "metadata": {},
   "source": [
    "#### Agrupamento vagas"
   ]
  },
  {
   "cell_type": "code",
   "execution_count": 3,
   "metadata": {},
   "outputs": [],
   "source": [
    "# Carregando as bibliotecas\n",
    "import pandas as pd\n",
    "import numpy as np\n",
    "from sklearn.cluster import KMeans\n",
    "from sklearn.cluster import AgglomerativeClustering\n",
    "from sklearn.metrics import silhouette_samples, silhouette_score, jaccard_score\n",
    "import matplotlib.pyplot as plt"
   ]
  },
  {
   "cell_type": "code",
   "execution_count": 8,
   "metadata": {},
   "outputs": [
    {
     "data": {
      "text/html": [
       "<div>\n",
       "<style scoped>\n",
       "    .dataframe tbody tr th:only-of-type {\n",
       "        vertical-align: middle;\n",
       "    }\n",
       "\n",
       "    .dataframe tbody tr th {\n",
       "        vertical-align: top;\n",
       "    }\n",
       "\n",
       "    .dataframe thead th {\n",
       "        text-align: right;\n",
       "    }\n",
       "</style>\n",
       "<table border=\"1\" class=\"dataframe\">\n",
       "  <thead>\n",
       "    <tr style=\"text-align: right;\">\n",
       "      <th></th>\n",
       "      <th>cod_ocupacao</th>\n",
       "      <th>salario</th>\n",
       "      <th>tipo_contratacao</th>\n",
       "      <th>qtd_experiencia</th>\n",
       "      <th>escolaridade</th>\n",
       "    </tr>\n",
       "  </thead>\n",
       "  <tbody>\n",
       "    <tr>\n",
       "      <th>0</th>\n",
       "      <td>514120</td>\n",
       "      <td>600.0</td>\n",
       "      <td>3</td>\n",
       "      <td>2</td>\n",
       "      <td>1</td>\n",
       "    </tr>\n",
       "    <tr>\n",
       "      <th>1</th>\n",
       "      <td>783215</td>\n",
       "      <td>812.0</td>\n",
       "      <td>3</td>\n",
       "      <td>3</td>\n",
       "      <td>1</td>\n",
       "    </tr>\n",
       "    <tr>\n",
       "      <th>2</th>\n",
       "      <td>142205</td>\n",
       "      <td>0.0</td>\n",
       "      <td>3</td>\n",
       "      <td>6</td>\n",
       "      <td>5</td>\n",
       "    </tr>\n",
       "    <tr>\n",
       "      <th>3</th>\n",
       "      <td>513205</td>\n",
       "      <td>1200.0</td>\n",
       "      <td>3</td>\n",
       "      <td>6</td>\n",
       "      <td>2</td>\n",
       "    </tr>\n",
       "    <tr>\n",
       "      <th>4</th>\n",
       "      <td>763215</td>\n",
       "      <td>1656.0</td>\n",
       "      <td>3</td>\n",
       "      <td>6</td>\n",
       "      <td>0</td>\n",
       "    </tr>\n",
       "  </tbody>\n",
       "</table>\n",
       "</div>"
      ],
      "text/plain": [
       "   cod_ocupacao  salario  tipo_contratacao  qtd_experiencia escolaridade\n",
       "0        514120    600.0                 3                2            1\n",
       "1        783215    812.0                 3                3            1\n",
       "2        142205      0.0                 3                6            5\n",
       "3        513205   1200.0                 3                6            2\n",
       "4        763215   1656.0                 3                6            0"
      ]
     },
     "execution_count": 8,
     "metadata": {},
     "output_type": "execute_result"
    }
   ],
   "source": [
    "# Carrega os datasets\n",
    "# df_vagas = pd.read_csv('data/vagas-ba.csv', encoding='ISO-8859-1', sep=';')\n",
    "df_vagas = pd.read_excel('data/vagas-pr.xlsx', index_col=0)\n",
    "pd.set_option('max_colwidth', None)\n",
    "df_vagas.head()"
   ]
  },
  {
   "cell_type": "code",
   "execution_count": 9,
   "metadata": {},
   "outputs": [
    {
     "data": {
      "text/plain": [
       "cod_ocupacao        0\n",
       "salario             0\n",
       "tipo_contratacao    0\n",
       "qtd_experiencia     0\n",
       "escolaridade        0\n",
       "dtype: int64"
      ]
     },
     "execution_count": 9,
     "metadata": {},
     "output_type": "execute_result"
    }
   ],
   "source": [
    "# verifica se existe variáveis nulas por campo\n",
    "df_vagas.isna().sum()"
   ]
  },
  {
   "cell_type": "code",
   "execution_count": 10,
   "metadata": {},
   "outputs": [],
   "source": [
    "# Considerando que o CBO está organizado em grupo e subgrupo de funções por área, então podemos propor um agrupamento por subgrupo até o nível 5\n",
    "# Estrutura CBO2002 (Ex. 3143 - Técnicos em mecânica veicular):\n",
    "#   - Grande grupo (1º número): \n",
    "#       - 3: Técnico de nível médio\n",
    "#   - Subgrupo principal (2 primeiros números): \n",
    "#       - 31: Técnicos de nível médio das ciências físicas, químicas, engenharia e afins\n",
    "#   - Subgrupo (3 primeiros números): 314\n",
    "#       - 314: Técnicos em metalmecânica \n",
    "#   - Família (4 números)\n",
    "#       - 3143: Técnicos em mecânica veicular\n",
    "#   - Ocupação: (6 números)\n",
    "#       - 314305: Técnico em automobilística\n",
    "#       - 314310: Técnico mecânico (aeronaves) \n",
    "#       - 314315: Técnico mecânico (embarcações)    \n",
    "# Fontes: http://www.mtecbo.gov.br/cbosite/pages/home.jsf, https://renastonline.ensp.fiocruz.br/temas/classificacao-brasileira-ocupacoes-cbo"
   ]
  },
  {
   "cell_type": "code",
   "execution_count": null,
   "metadata": {},
   "outputs": [],
   "source": []
  }
 ],
 "metadata": {
  "kernelspec": {
   "display_name": "Python 3.9.6 ('venv': venv)",
   "language": "python",
   "name": "python3"
  },
  "language_info": {
   "codemirror_mode": {
    "name": "ipython",
    "version": 3
   },
   "file_extension": ".py",
   "mimetype": "text/x-python",
   "name": "python",
   "nbconvert_exporter": "python",
   "pygments_lexer": "ipython3",
   "version": "3.9.6"
  },
  "orig_nbformat": 4,
  "vscode": {
   "interpreter": {
    "hash": "008ce0aee2f1dcd3fc0687de84d0a31741e2cfedff6a001afb71b61ed2a96102"
   }
  }
 },
 "nbformat": 4,
 "nbformat_minor": 2
}
